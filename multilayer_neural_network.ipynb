{
  "nbformat": 4,
  "nbformat_minor": 0,
  "metadata": {
    "colab": {
      "provenance": []
    },
    "kernelspec": {
      "name": "python3",
      "display_name": "Python 3"
    },
    "language_info": {
      "name": "python"
    }
  },
  "cells": [
    {
      "cell_type": "code",
      "execution_count": null,
      "metadata": {
        "id": "dqNdqY_JAJjh"
      },
      "outputs": [],
      "source": [
        "import numpy as np\n",
        "import pandas as pd\n",
        "from sklearn.preprocessing import StandardScaler\n",
        "from tensorflow.keras.models import Sequential\n",
        "from tensorflow.keras.layers import Dense\n",
        "from sklearn.model_selection import train_test_split\n",
        "from google.colab import drive"
      ]
    },
    {
      "cell_type": "markdown",
      "source": [
        "# 0. Data Loading"
      ],
      "metadata": {
        "id": "PnHhUtevg0Q1"
      }
    },
    {
      "cell_type": "code",
      "source": [
        "# Mount Google Drive to access the dataset files\n",
        "drive.mount('/content/drive')\n",
        "folder_path = '/content/drive/MyDrive/MLGroupProject'\n",
        "dataset_file_path = f'{folder_path}/diabetes.csv'\n",
        "\n",
        "#reading data file into data frame\n",
        "df = pd.read_csv(dataset_file_path)\n",
        "df.columns = df.columns.str.strip()"
      ],
      "metadata": {
        "colab": {
          "base_uri": "https://localhost:8080/"
        },
        "id": "6Y7OtLBteMTH",
        "outputId": "0ed21bdd-09aa-4824-fba2-abc2306a04bb"
      },
      "execution_count": null,
      "outputs": [
        {
          "output_type": "stream",
          "name": "stdout",
          "text": [
            "Drive already mounted at /content/drive; to attempt to forcibly remount, call drive.mount(\"/content/drive\", force_remount=True).\n"
          ]
        }
      ]
    },
    {
      "cell_type": "markdown",
      "source": [
        "#1. Data Pre-processing"
      ],
      "metadata": {
        "id": "yDcjRvKDeJhM"
      }
    },
    {
      "cell_type": "code",
      "source": [
        "# Columns that need decimal conversion\n",
        "columns_with_comma_decimal = ['chol_hdl_ratio', 'bmi', 'waist_hip_ratio']\n",
        "for column in columns_with_comma_decimal:\n",
        "    df[column] = df[column].astype(str).str.replace(',', '.').astype(float)\n",
        "\n",
        "# Encode the 'gender' column\n",
        "df['gender'] = df['gender'].map({'male': 0, 'female': 1})\n",
        "\n",
        "# Encode the 'diabetes' column\n",
        "df['diabetes'] = df['diabetes'].map({'No diabetes': 0, 'Diabetes': 1})\n",
        "\n",
        "# Handle Missing Values (if any)\n",
        "df.fillna(df.median(), inplace=True)"
      ],
      "metadata": {
        "id": "PwXouU4dfgRy"
      },
      "execution_count": null,
      "outputs": []
    },
    {
      "cell_type": "markdown",
      "source": [
        "**Feature Scaling**"
      ],
      "metadata": {
        "id": "fThCw6tWhN1G"
      }
    },
    {
      "cell_type": "code",
      "source": [
        "X = df.drop('diabetes', axis=1)\n",
        "y = df['diabetes']\n",
        "\n",
        "scaler = StandardScaler()\n",
        "\n",
        "# Fit and transform the scaler on the features\n",
        "X_scaled = scaler.fit_transform(X)"
      ],
      "metadata": {
        "id": "sW6TszFJhRNI"
      },
      "execution_count": null,
      "outputs": []
    },
    {
      "cell_type": "markdown",
      "source": [
        "**Train-Test Split**"
      ],
      "metadata": {
        "id": "DRfGHPBwheA8"
      }
    },
    {
      "cell_type": "code",
      "source": [
        "'''\n",
        "using stratify to split the data in such a way that the proportion of diabetes vs no diabetes cases in\n",
        "both training and testing sets will match the proportion in the full dataset y.\n",
        "'''\n",
        "X_train, X_test, y_train, y_test = train_test_split(X_scaled, y, test_size=0.2, random_state=42, stratify=y)"
      ],
      "metadata": {
        "id": "B2mmbsZlhg8t"
      },
      "execution_count": null,
      "outputs": []
    },
    {
      "cell_type": "code",
      "source": [
        "def assert_stratification(y, y_train, y_test):\n",
        "    original_proportion = y.value_counts(normalize=True)\n",
        "    train_proportion = y_train.value_counts(normalize=True)\n",
        "    test_proportion = y_test.value_counts(normalize=True)\n",
        "\n",
        "    # Assert that the difference in proportions is small\n",
        "    assert (original_proportion - train_proportion).abs().max() < 0.05, \"Training set stratification failed\"\n",
        "    assert (original_proportion - test_proportion).abs().max() < 0.05, \"Testing set stratification failed\"\n",
        "\n",
        "    print(\"Proportion of 'diabetes' in original data: \\n\", original_proportion)\n",
        "    print(\"\\nProportion of 'diabetes' in training data: \\n\", train_proportion)\n",
        "    print(\"\\nProportion of 'diabetes' in testing data: \\n\", test_proportion)\n",
        "    print(\"\\nAssertion passed: The train and test sets are properly stratified.\")\n",
        "\n",
        "# Call the function to perform the check\n",
        "assert_stratification(y, y_train, y_test)"
      ],
      "metadata": {
        "colab": {
          "base_uri": "https://localhost:8080/"
        },
        "id": "t9gfXH7Yo3ij",
        "outputId": "552f451d-6741-46fb-d6c9-6b302f92f6a8"
      },
      "execution_count": null,
      "outputs": [
        {
          "output_type": "stream",
          "name": "stdout",
          "text": [
            "Proportion of 'diabetes' in original data: \n",
            " 0    0.846154\n",
            "1    0.153846\n",
            "Name: diabetes, dtype: float64\n",
            "\n",
            "Proportion of 'diabetes' in training data: \n",
            " 0    0.846154\n",
            "1    0.153846\n",
            "Name: diabetes, dtype: float64\n",
            "\n",
            "Proportion of 'diabetes' in testing data: \n",
            " 0    0.846154\n",
            "1    0.153846\n",
            "Name: diabetes, dtype: float64\n",
            "\n",
            "Assertion passed: The train and test sets are properly stratified.\n"
          ]
        }
      ]
    },
    {
      "cell_type": "markdown",
      "source": [
        "# 2. Build the Multi-Layer Model"
      ],
      "metadata": {
        "id": "qODVxGhMhrqT"
      }
    },
    {
      "cell_type": "code",
      "source": [
        "model = Sequential([\n",
        "    Dense(128, activation='tanh', input_shape=(X_train.shape[1],)),\n",
        "    Dense(64, activation='tanh'),\n",
        "    Dense(1, activation='sigmoid')  # Since it's a binary classification\n",
        "])"
      ],
      "metadata": {
        "id": "N-pEdbVPhz_o"
      },
      "execution_count": null,
      "outputs": []
    },
    {
      "cell_type": "markdown",
      "source": [
        "**Compile Model**"
      ],
      "metadata": {
        "id": "tiqdDSlxkX3r"
      }
    },
    {
      "cell_type": "code",
      "source": [
        "model.compile(optimizer='adam',\n",
        "              loss='binary_crossentropy',\n",
        "              metrics=['accuracy'])"
      ],
      "metadata": {
        "id": "xwLZWh8FkatS"
      },
      "execution_count": null,
      "outputs": []
    },
    {
      "cell_type": "code",
      "source": [
        "# Training the model\n",
        "model.fit(X_train, y_train, epochs=50, batch_size=10, validation_split=0.2)"
      ],
      "metadata": {
        "colab": {
          "base_uri": "https://localhost:8080/"
        },
        "id": "8DZezuwDkzd3",
        "outputId": "5865549e-7de1-497f-b98a-3954d8b5c3fc"
      },
      "execution_count": null,
      "outputs": [
        {
          "output_type": "stream",
          "name": "stdout",
          "text": [
            "Epoch 1/50\n",
            "25/25 [==============================] - 1s 11ms/step - loss: 0.4948 - accuracy: 0.7831 - val_loss: 0.3693 - val_accuracy: 0.8889\n",
            "Epoch 2/50\n",
            "25/25 [==============================] - 0s 3ms/step - loss: 0.3224 - accuracy: 0.9277 - val_loss: 0.2423 - val_accuracy: 0.9206\n",
            "Epoch 3/50\n",
            "25/25 [==============================] - 0s 4ms/step - loss: 0.2535 - accuracy: 0.9357 - val_loss: 0.2189 - val_accuracy: 0.9206\n",
            "Epoch 4/50\n",
            "25/25 [==============================] - 0s 4ms/step - loss: 0.2324 - accuracy: 0.9357 - val_loss: 0.2270 - val_accuracy: 0.9206\n",
            "Epoch 5/50\n",
            "25/25 [==============================] - 0s 3ms/step - loss: 0.2300 - accuracy: 0.9197 - val_loss: 0.2294 - val_accuracy: 0.9206\n",
            "Epoch 6/50\n",
            "25/25 [==============================] - 0s 4ms/step - loss: 0.2198 - accuracy: 0.9277 - val_loss: 0.2114 - val_accuracy: 0.9206\n",
            "Epoch 7/50\n",
            "25/25 [==============================] - 0s 4ms/step - loss: 0.2127 - accuracy: 0.9237 - val_loss: 0.2258 - val_accuracy: 0.9206\n",
            "Epoch 8/50\n",
            "25/25 [==============================] - 0s 4ms/step - loss: 0.2112 - accuracy: 0.9317 - val_loss: 0.2436 - val_accuracy: 0.9206\n",
            "Epoch 9/50\n",
            "25/25 [==============================] - 0s 3ms/step - loss: 0.2030 - accuracy: 0.9277 - val_loss: 0.2303 - val_accuracy: 0.9206\n",
            "Epoch 10/50\n",
            "25/25 [==============================] - 0s 3ms/step - loss: 0.2048 - accuracy: 0.9357 - val_loss: 0.2204 - val_accuracy: 0.9206\n",
            "Epoch 11/50\n",
            "25/25 [==============================] - 0s 4ms/step - loss: 0.2038 - accuracy: 0.9317 - val_loss: 0.2488 - val_accuracy: 0.9048\n",
            "Epoch 12/50\n",
            "25/25 [==============================] - 0s 4ms/step - loss: 0.1943 - accuracy: 0.9317 - val_loss: 0.2104 - val_accuracy: 0.9206\n",
            "Epoch 13/50\n",
            "25/25 [==============================] - 0s 3ms/step - loss: 0.1972 - accuracy: 0.9237 - val_loss: 0.2322 - val_accuracy: 0.9206\n",
            "Epoch 14/50\n",
            "25/25 [==============================] - 0s 4ms/step - loss: 0.1922 - accuracy: 0.9398 - val_loss: 0.2138 - val_accuracy: 0.9206\n",
            "Epoch 15/50\n",
            "25/25 [==============================] - 0s 3ms/step - loss: 0.1904 - accuracy: 0.9317 - val_loss: 0.2232 - val_accuracy: 0.9206\n",
            "Epoch 16/50\n",
            "25/25 [==============================] - 0s 4ms/step - loss: 0.1907 - accuracy: 0.9237 - val_loss: 0.2165 - val_accuracy: 0.9206\n",
            "Epoch 17/50\n",
            "25/25 [==============================] - 0s 4ms/step - loss: 0.1789 - accuracy: 0.9438 - val_loss: 0.2149 - val_accuracy: 0.9206\n",
            "Epoch 18/50\n",
            "25/25 [==============================] - 0s 4ms/step - loss: 0.1909 - accuracy: 0.9277 - val_loss: 0.2068 - val_accuracy: 0.9206\n",
            "Epoch 19/50\n",
            "25/25 [==============================] - 0s 4ms/step - loss: 0.1800 - accuracy: 0.9398 - val_loss: 0.2147 - val_accuracy: 0.9365\n",
            "Epoch 20/50\n",
            "25/25 [==============================] - 0s 3ms/step - loss: 0.1693 - accuracy: 0.9398 - val_loss: 0.2151 - val_accuracy: 0.9206\n",
            "Epoch 21/50\n",
            "25/25 [==============================] - 0s 4ms/step - loss: 0.1698 - accuracy: 0.9357 - val_loss: 0.2074 - val_accuracy: 0.9365\n",
            "Epoch 22/50\n",
            "25/25 [==============================] - 0s 4ms/step - loss: 0.1677 - accuracy: 0.9398 - val_loss: 0.2150 - val_accuracy: 0.9365\n",
            "Epoch 23/50\n",
            "25/25 [==============================] - 0s 4ms/step - loss: 0.1662 - accuracy: 0.9438 - val_loss: 0.2025 - val_accuracy: 0.9365\n",
            "Epoch 24/50\n",
            "25/25 [==============================] - 0s 5ms/step - loss: 0.1629 - accuracy: 0.9398 - val_loss: 0.2043 - val_accuracy: 0.9365\n",
            "Epoch 25/50\n",
            "25/25 [==============================] - 0s 4ms/step - loss: 0.1621 - accuracy: 0.9478 - val_loss: 0.1957 - val_accuracy: 0.9365\n",
            "Epoch 26/50\n",
            "25/25 [==============================] - 0s 4ms/step - loss: 0.1564 - accuracy: 0.9518 - val_loss: 0.2018 - val_accuracy: 0.9365\n",
            "Epoch 27/50\n",
            "25/25 [==============================] - 0s 3ms/step - loss: 0.1545 - accuracy: 0.9558 - val_loss: 0.2066 - val_accuracy: 0.9365\n",
            "Epoch 28/50\n",
            "25/25 [==============================] - 0s 4ms/step - loss: 0.1521 - accuracy: 0.9518 - val_loss: 0.1904 - val_accuracy: 0.9365\n",
            "Epoch 29/50\n",
            "25/25 [==============================] - 0s 4ms/step - loss: 0.1455 - accuracy: 0.9598 - val_loss: 0.1984 - val_accuracy: 0.9365\n",
            "Epoch 30/50\n",
            "25/25 [==============================] - 0s 4ms/step - loss: 0.1433 - accuracy: 0.9558 - val_loss: 0.1832 - val_accuracy: 0.9365\n",
            "Epoch 31/50\n",
            "25/25 [==============================] - 0s 4ms/step - loss: 0.1461 - accuracy: 0.9438 - val_loss: 0.1896 - val_accuracy: 0.9365\n",
            "Epoch 32/50\n",
            "25/25 [==============================] - 0s 4ms/step - loss: 0.1380 - accuracy: 0.9639 - val_loss: 0.2086 - val_accuracy: 0.9365\n",
            "Epoch 33/50\n",
            "25/25 [==============================] - 0s 4ms/step - loss: 0.1345 - accuracy: 0.9639 - val_loss: 0.1970 - val_accuracy: 0.9365\n",
            "Epoch 34/50\n",
            "25/25 [==============================] - 0s 4ms/step - loss: 0.1333 - accuracy: 0.9639 - val_loss: 0.1938 - val_accuracy: 0.9365\n",
            "Epoch 35/50\n",
            "25/25 [==============================] - 0s 4ms/step - loss: 0.1290 - accuracy: 0.9639 - val_loss: 0.1725 - val_accuracy: 0.9365\n",
            "Epoch 36/50\n",
            "25/25 [==============================] - 0s 4ms/step - loss: 0.1291 - accuracy: 0.9558 - val_loss: 0.2043 - val_accuracy: 0.9365\n",
            "Epoch 37/50\n",
            "25/25 [==============================] - 0s 4ms/step - loss: 0.1294 - accuracy: 0.9679 - val_loss: 0.2027 - val_accuracy: 0.9206\n",
            "Epoch 38/50\n",
            "25/25 [==============================] - 0s 4ms/step - loss: 0.1249 - accuracy: 0.9598 - val_loss: 0.1981 - val_accuracy: 0.9365\n",
            "Epoch 39/50\n",
            "25/25 [==============================] - 0s 4ms/step - loss: 0.1229 - accuracy: 0.9679 - val_loss: 0.2166 - val_accuracy: 0.9048\n",
            "Epoch 40/50\n",
            "25/25 [==============================] - 0s 4ms/step - loss: 0.1158 - accuracy: 0.9639 - val_loss: 0.1674 - val_accuracy: 0.9365\n",
            "Epoch 41/50\n",
            "25/25 [==============================] - 0s 4ms/step - loss: 0.1140 - accuracy: 0.9679 - val_loss: 0.1864 - val_accuracy: 0.9365\n",
            "Epoch 42/50\n",
            "25/25 [==============================] - 0s 4ms/step - loss: 0.1109 - accuracy: 0.9759 - val_loss: 0.2020 - val_accuracy: 0.9048\n",
            "Epoch 43/50\n",
            "25/25 [==============================] - 0s 4ms/step - loss: 0.1092 - accuracy: 0.9679 - val_loss: 0.1919 - val_accuracy: 0.9206\n",
            "Epoch 44/50\n",
            "25/25 [==============================] - 0s 3ms/step - loss: 0.1094 - accuracy: 0.9719 - val_loss: 0.1724 - val_accuracy: 0.9365\n",
            "Epoch 45/50\n",
            "25/25 [==============================] - 0s 3ms/step - loss: 0.1064 - accuracy: 0.9759 - val_loss: 0.1803 - val_accuracy: 0.9206\n",
            "Epoch 46/50\n",
            "25/25 [==============================] - 0s 4ms/step - loss: 0.1014 - accuracy: 0.9719 - val_loss: 0.1877 - val_accuracy: 0.9048\n",
            "Epoch 47/50\n",
            "25/25 [==============================] - 0s 4ms/step - loss: 0.0974 - accuracy: 0.9759 - val_loss: 0.1807 - val_accuracy: 0.9206\n",
            "Epoch 48/50\n",
            "25/25 [==============================] - 0s 3ms/step - loss: 0.0949 - accuracy: 0.9759 - val_loss: 0.1912 - val_accuracy: 0.9048\n",
            "Epoch 49/50\n",
            "25/25 [==============================] - 0s 4ms/step - loss: 0.0927 - accuracy: 0.9759 - val_loss: 0.1797 - val_accuracy: 0.9048\n",
            "Epoch 50/50\n",
            "25/25 [==============================] - 0s 3ms/step - loss: 0.0901 - accuracy: 0.9759 - val_loss: 0.1785 - val_accuracy: 0.9206\n"
          ]
        },
        {
          "output_type": "execute_result",
          "data": {
            "text/plain": [
              "<keras.src.callbacks.History at 0x7e42ab8f0550>"
            ]
          },
          "metadata": {},
          "execution_count": 134
        }
      ]
    },
    {
      "cell_type": "code",
      "source": [
        "loss, accuracy = model.evaluate(X_test, y_test)\n",
        "print(f\"Test Accuracy: {accuracy*100}%\")"
      ],
      "metadata": {
        "colab": {
          "base_uri": "https://localhost:8080/"
        },
        "id": "L_IwKVm9k5H5",
        "outputId": "300c8770-e5d0-4a2c-884e-7da08700ccc5"
      },
      "execution_count": null,
      "outputs": [
        {
          "output_type": "stream",
          "name": "stdout",
          "text": [
            "3/3 [==============================] - 0s 5ms/step - loss: 0.2142 - accuracy: 0.9231\n",
            "Test Accuracy: 92.30769276618958%\n"
          ]
        }
      ]
    },
    {
      "cell_type": "markdown",
      "source": [
        "# 3. Visualizations"
      ],
      "metadata": {
        "id": "6RD14T3tl53g"
      }
    },
    {
      "cell_type": "code",
      "source": [
        "from sklearn.metrics import confusion_matrix\n",
        "from sklearn.calibration import calibration_curve\n",
        "from sklearn.metrics import ConfusionMatrixDisplay\n",
        "import matplotlib.pyplot as plt\n",
        "import seaborn as sns"
      ],
      "metadata": {
        "id": "GX6jJigamTC7"
      },
      "execution_count": null,
      "outputs": []
    },
    {
      "cell_type": "code",
      "source": [
        "# Confusion Matrix\n",
        "y_pred = model.predict(X_test)\n",
        "y_pred_class = np.round(y_pred).astype(int).flatten()  # Convert probabilities to class labels\n",
        "\n",
        "# Compute confusion matrix\n",
        "conf_matrix = confusion_matrix(y_test, y_pred_class)\n",
        "display = ConfusionMatrixDisplay(confusion_matrix=confusion_matrix)\n",
        "sns.heatmap(conf_matrix, annot=True, fmt=\"d\", cmap=\"Blues\", xticklabels=['No Diabetes', 'Diabetes'], yticklabels=['No Diabetes', 'Diabetes'])\n",
        "plt.ylabel('Actual Label')\n",
        "plt.xlabel('Predicted Label')\n",
        "plt.title('Confusion Matrix')\n",
        "plt.show()"
      ],
      "metadata": {
        "colab": {
          "base_uri": "https://localhost:8080/",
          "height": 490
        },
        "id": "5VA7xSR7mECi",
        "outputId": "08e4c33a-0f15-4cbf-fe7b-76afd4b0efc3"
      },
      "execution_count": null,
      "outputs": [
        {
          "output_type": "stream",
          "name": "stdout",
          "text": [
            "3/3 [==============================] - 0s 5ms/step\n"
          ]
        },
        {
          "output_type": "display_data",
          "data": {
            "text/plain": [
              "<Figure size 640x480 with 2 Axes>"
            ],
            "image/png": "[encoded data removed]"
          },
          "metadata": {}
        }
      ]
    },
    {
      "cell_type": "code",
      "source": [
        "# Get predicted probabilities for the positive class (e.g., 'diabetes')\n",
        "y_pred_probs = y_pred.flatten()\n",
        "\n",
        "# Compute true and predicted probabilities for calibration curve\n",
        "true_prob, pred_prob = calibration_curve(y_test, y_pred_probs, n_bins=10, strategy='uniform')\n",
        "\n",
        "# Plot the calibration curve\n",
        "plt.plot(pred_prob, true_prob, marker='o', linewidth=1, label='Model')\n",
        "plt.plot([0, 1], [0, 1], linestyle='--', label='Perfectly calibrated')\n",
        "plt.ylabel('Fraction of Positives')\n",
        "plt.xlabel('Mean Predicted Probability')\n",
        "plt.title('Calibration Curve')\n",
        "plt.legend()\n",
        "plt.show()"
      ],
      "metadata": {
        "colab": {
          "base_uri": "https://localhost:8080/",
          "height": 472
        },
        "id": "xXDqX2bLnJYp",
        "outputId": "3e1dbe0b-f608-40ac-e77a-23bf266d018e"
      },
      "execution_count": null,
      "outputs": [
        {
          "output_type": "display_data",
          "data": {
            "text/plain": [
              "<Figure size 640x480 with 1 Axes>"
            ],
            "image/png": "[encoded data removed]"
          },
          "metadata": {}
        }
      ]
    }
  ]
}